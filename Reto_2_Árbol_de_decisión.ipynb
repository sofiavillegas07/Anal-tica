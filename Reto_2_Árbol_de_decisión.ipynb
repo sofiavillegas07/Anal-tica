{
  "nbformat": 4,
  "nbformat_minor": 0,
  "metadata": {
    "colab": {
      "provenance": [],
      "mount_file_id": "1IZRCT-_uRaGZvFt67fY5SuDZyoCb4FQe",
      "authorship_tag": "ABX9TyOSpmmSp+ANoyGZWBC52qjc",
      "include_colab_link": true
    },
    "kernelspec": {
      "name": "python3",
      "display_name": "Python 3"
    },
    "language_info": {
      "name": "python"
    }
  },
  "cells": [
    {
      "cell_type": "markdown",
      "metadata": {
        "id": "view-in-github",
        "colab_type": "text"
      },
      "source": [
        "<a href=\"https://colab.research.google.com/github/sofiavillegas07/Anal-tica/blob/main/Reto_2_%C3%81rbol_de_decisi%C3%B3n.ipynb\" target=\"_parent\"><img src=\"https://colab.research.google.com/assets/colab-badge.svg\" alt=\"Open In Colab\"/></a>"
      ]
    },
    {
      "cell_type": "markdown",
      "source": [
        "**Reto 2: Árboles de decisión**\n",
        "0. Cargar las librerias de referencia para el modelo\n"
      ],
      "metadata": {
        "id": "AqZokB-hjYC7"
      }
    },
    {
      "cell_type": "code",
      "source": [
        "import numpy as np\n",
        "import pandas as pd\n",
        "import matplotlib.pyplot as plt\n",
        "from sklearn.tree import DecisionTreeClassifier\n",
        "\n",
        "from google.colab import drive\n",
        "drive.mount('/content/drive')"
      ],
      "metadata": {
        "colab": {
          "base_uri": "https://localhost:8080/"
        },
        "id": "MF5eElhhjn6v",
        "outputId": "ccce9e5d-537e-4852-800e-d3d31c66967f"
      },
      "execution_count": null,
      "outputs": [
        {
          "output_type": "stream",
          "name": "stdout",
          "text": [
            "Drive already mounted at /content/drive; to attempt to forcibly remount, call drive.mount(\"/content/drive\", force_remount=True).\n"
          ]
        }
      ]
    },
    {
      "cell_type": "markdown",
      "source": [
        "1. Carga de los datos del archivo travel data"
      ],
      "metadata": {
        "id": "PaIIFK8-j2Fb"
      }
    },
    {
      "cell_type": "code",
      "source": [
        "nxl='/content/drive/MyDrive/Analitica de negocios /2. BD1_Travel_Data_int.xlsx'\n",
        "XDB=pd.read_excel(nxl,sheet_name=0) #No me funcionó con sheet_name=1\n",
        "XDB=XDB.dropna()\n",
        "XDB.head(100)\n",
        "\n",
        "XD=np.array(XDB[['College','FoodSpend','Income','TravelSpend']])\n",
        "print(XD)\n",
        "yd=np.array(XDB['CreditCard']) #El dato que quiero que el modelo pronostique es si el cliente va a utilizar tarjeta de crédito\n",
        "print(yd)\n"
      ],
      "metadata": {
        "colab": {
          "base_uri": "https://localhost:8080/"
        },
        "id": "tvIvBdC9j9q4",
        "outputId": "86c8e13e-deb5-4099-8f07-16dc806b6fe7",
        "collapsed": true
      },
      "execution_count": null,
      "outputs": [
        {
          "output_type": "stream",
          "name": "stdout",
          "text": [
            "[[1.00000e+00 5.47243e+03 4.91500e+04 8.27400e+02]\n",
            " [0.00000e+00 9.13073e+03 4.78060e+04 8.63550e+02]\n",
            " [0.00000e+00 4.45067e+03 4.60500e+04 1.18005e+03]\n",
            " ...\n",
            " [0.00000e+00 3.58586e+03 4.22500e+04 2.25195e+03]\n",
            " [1.00000e+00 1.83395e+03 6.02480e+04 2.00025e+03]\n",
            " [0.00000e+00 6.20597e+03 5.85200e+04 3.66750e+03]]\n",
            "[1 1 1 1 1 0 0 1 0 0 0 1 1 1 0 1 0 0 0 0 0 0 1 0 1 0 1 1 0 1 0 1 1 0 1 1 0\n",
            " 0 0 0 0 0 0 0 0 0 0 0 1 0 0 0 0 1 1 0 1 1 0 0 0 1 0 0 0 0 1 0 0 0 0 0 0 1\n",
            " 0 0 1 0 0 0 1 0 1 0 0 1 1 0 0 0 0 0 0 0 1 0 0 0 0 1 0 0 1 1 0 0 0 0 1 0 0\n",
            " 0 0 0 0 0 0 0 0 0 0 0 1 0 0 0 0 1 1 1 0 0 0 0 0 0 1 0 0 0 1 0 0 0 1 0 0 0\n",
            " 1 0 1 0 0 1 1 1 0 0 0 1 1 0 0 1 0 0 0 0 1 0 0 0 0 0 1 0 1 1 0 0 0 1 0 0 0\n",
            " 1 0 0 0 0 0 0 1 0 0 0 0 0 0 0 1 1 0 0 1 0 0 0 1 1 0 0 0 1 0 0 1 0 0 0 0 0\n",
            " 0 0 1 1 0 0 0 0 0 0 0 0 1 0 0 1 0 0 1 0 0 0 0 1 0 0 1 0 1 0 0 0 0 0 1 0 0\n",
            " 0 0 0 0 0 0 0 1 0 0 0 0 0 0 0 0 1 1 0 0 1 0 0 0 0 0 0 0 0 0 0 1 0 1 1 0 0\n",
            " 0 0 0 0 0 0 1 1 1 1 0 1 1 1 0 1 1 1 1 1 0 0 0 1 0 0 0 0 1 1 1 0 0 1 0 1 0\n",
            " 0 0 0 0 0 1 0 0 0 0 0 0 0 0 0 0 1 0 0 0 0 0 0 1 0 0 0 0 0 0 0 0 0 1 1 0 0\n",
            " 0 0 1 1 1 1 0 1 1 0 0 0 0 0 0 0 0 0 1 1 1 0 1 0 0 1 1 1 1 0 1 0 0 1 0 0 0\n",
            " 0 1 1 1 1 0 0 0 1 1 0 0 1 0 0 1 1 0 1 0 0 1 0 1 1 0 1 0 0 1 1 1 0 1 1 1 1\n",
            " 1 0 0 0 0 0 1 0 1 0 0 0 1 1 0 0 0 1 0 1 1 1 0 0 1 0 1 0 1 0 0 0 0 0 0 1 0\n",
            " 0 0 0 0 0 0 1 0 0 0 0 0 1 0 0 0 0 0 0]\n"
          ]
        }
      ]
    },
    {
      "cell_type": "markdown",
      "source": [
        "2. Creación del modelo - Decision Tree"
      ],
      "metadata": {
        "id": "ETWPagVCtOM-"
      }
    },
    {
      "cell_type": "code",
      "source": [
        "mar=DecisionTreeClassifier(criterion='gini',max_depth=4) #Dividido en 4 niveles\n",
        "mar.fit(XD,yd)\n",
        "ydp=mar.predict(XD)\n",
        "\n",
        "from sklearn.metrics import confusion_matrix\n",
        "cm=confusion_matrix(yd,ydp)\n",
        "print(cm)\n",
        "\n",
        "#Evaluamos el modelo\n",
        "VN=cm[0,0]; FP=cm[0,1]; FN=cm[1,0]; VP=cm[1,1]\n",
        "\n",
        "Ex=(VN+VP)/(VN+VP+FN+FP) #Que porcentaje de los datos pronostico correctamente\n",
        "print(\"La exactitud alcanzada por el modelo es:\", Ex)\n",
        "Se=VP/(FN+VP) #Que porcentaje de los datos positivos pronosticado correctamente\n",
        "print(\"La sensibilidad alcanzada por el modelo es:\", Se)\n",
        "Es=VN/(VN+FP) #Que porcentaje de los datos positivos pronosticado correctamente\n",
        "print(\"La especificidad alcanzada por el modelo es:\", Es)"
      ],
      "metadata": {
        "colab": {
          "base_uri": "https://localhost:8080/"
        },
        "id": "wqYZajmYtNrZ",
        "outputId": "64c6df54-1898-42df-8a68-676b63e173f5"
      },
      "execution_count": null,
      "outputs": [
        {
          "output_type": "stream",
          "name": "stdout",
          "text": [
            "[[334   9]\n",
            " [ 42 115]]\n",
            "La exactitud alcanzada por el modelo es: 0.898\n",
            "La sensibilidad alcanzada por el modelo es: 0.732484076433121\n",
            "La especificidad alcanzada por el modelo es: 0.9737609329446064\n"
          ]
        }
      ]
    },
    {
      "cell_type": "markdown",
      "source": [
        "3. Graficar el árbol"
      ],
      "metadata": {
        "id": "d56A5gHjui5H"
      }
    },
    {
      "cell_type": "code",
      "source": [
        "#Estas son las librerias para graficar el arbol\n",
        "from sklearn.tree import export_graphviz\n",
        "from pydotplus import graph_from_dot_data\n",
        "\n",
        "vs=['College','FoodSpend','Income','TravelSpend'] #son los titulos para los nodos\n",
        "dot_graph=export_graphviz(mar,feature_names=vs)\n",
        "graph=graph_from_dot_data(dot_graph)\n",
        "graph.write_png('arbol.png')"
      ],
      "metadata": {
        "colab": {
          "base_uri": "https://localhost:8080/"
        },
        "id": "a4EVYAaCunLp",
        "outputId": "d167aa72-d74c-45e6-bc6e-0d0f0d42fbfc"
      },
      "execution_count": null,
      "outputs": [
        {
          "output_type": "execute_result",
          "data": {
            "text/plain": [
              "True"
            ]
          },
          "metadata": {},
          "execution_count": 4
        }
      ]
    },
    {
      "cell_type": "markdown",
      "source": [
        "4. Pronostico de las personas que van a pagar con tarjeta de crédito"
      ],
      "metadata": {
        "id": "4n7OZkURu7zO"
      }
    },
    {
      "cell_type": "code",
      "source": [
        "XDB2=pd.read_excel(nxl,sheet_name=1)\n",
        "XDB2=XDB2.dropna()\n",
        "XDB2.head(100)\n",
        "\n",
        "XD2=np.array(XDB2[['College','FoodSpend','Income','TravelSpend']]) #Datos de entrada\n",
        "print(XD2)\n",
        "\n",
        "#Pronosticamos las personas que van a pagar con tarjeta\n",
        "ydp2=mar.predict(XD2)\n",
        "print(ydp2)\n",
        "\n"
      ],
      "metadata": {
        "colab": {
          "base_uri": "https://localhost:8080/"
        },
        "collapsed": true,
        "id": "W49oYfobvEfX",
        "outputId": "8aa217b0-2caf-43ac-d01f-6f166db1455d"
      },
      "execution_count": null,
      "outputs": [
        {
          "output_type": "stream",
          "name": "stdout",
          "text": [
            "[[0.00000e+00 2.89290e+03 6.59820e+04 2.15160e+03]\n",
            " [1.00000e+00 6.01766e+03 5.39860e+04 2.00250e+03]]\n",
            "[0 0]\n"
          ]
        }
      ]
    },
    {
      "cell_type": "markdown",
      "source": [
        "**Analisis**\n",
        "De acuerdo con la base de datos suministrada y el nodo base del arbol de decision, se puede observar un total de 500 datos.\n",
        "\n",
        "De acuerdo con el pronostico realizado por el modelo, este alcanzo una exactitud cercana al 89%, valores que fueron similares a la sensibilidad que fue de 73% y a la especifidad que fue del 93%.\n",
        "\n",
        "Por otro lado, de acuerdo con los nuevos clientes en la base de datos Travel_Plan_Score, la probabilidad de que el primer cliente utilizará la tarjeta de crédito para el pago de los gastos de viaje y de los alimentos en sus planes de viajar el próximo año es del 100%.\n",
        "\n",
        "La probabilidad de que el segundo cliente utilizará la tarjeta de crédito para el pago de los gastos de viaje y de los alimentos en sus planes de viajar el próximo año es del 78%.\n",
        "\n",
        "Las reglas del negocio a las que pertenecen los dos individuos anteriores:\n",
        "\n",
        "*Primera persona:*\n",
        "TravelSpend>=1567.875 AND Income>59098.0 [108-0]\n",
        "\n",
        "*Segunda persona:*\n",
        "TravelSpend>=1567.875 AND Income<59098.0 AND FoodSpend>2711.895 AND TravelSpend<=3008.25 [107-29]\n",
        "\n",
        "*Las reglas del negocio que poseen nodos puros son:*\n",
        "- TravelSpend<=1567.875 AND TravelSpend<1188.0 AND FoodSpend>4990.73 [0-47]\n",
        "\n",
        "- TravelSpend<=1567.875 AND TravelSpend<1188.0 AND FoodSpend<4990.73  FoodSpend>4972 [1-0]\n",
        "\n",
        "- TravelSpend>=1567.875 AND Income>59098 [108-0]\n",
        "\n",
        "\n",
        "\n",
        "\n",
        "\n"
      ],
      "metadata": {
        "id": "rYiLH9is2-DY"
      }
    },
    {
      "cell_type": "code",
      "source": [],
      "metadata": {
        "id": "cugmHCj1710-"
      },
      "execution_count": null,
      "outputs": []
    }
  ]
}